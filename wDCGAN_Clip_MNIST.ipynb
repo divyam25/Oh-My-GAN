{
 "cells": [
  {
   "cell_type": "code",
   "execution_count": 1,
   "metadata": {
    "colab": {},
    "colab_type": "code",
    "id": "xQLnHK9jJwrU"
   },
   "outputs": [],
   "source": [
    "import os,time,itertools,pickle,imageio\n",
    "import matplotlib.pyplot as plt\n",
    "import matplotlib.image as mpimg"
   ]
  },
  {
   "cell_type": "code",
   "execution_count": 2,
   "metadata": {
    "colab": {},
    "colab_type": "code",
    "id": "i0Gh0dPiigMh"
   },
   "outputs": [],
   "source": [
    "import torch as t\n",
    "from torch import cuda,nn,optim,utils\n",
    "from torch.nn import functional as F\n",
    "from torch.autograd import Variable\n",
    "from torchvision import datasets,transforms"
   ]
  },
  {
   "cell_type": "markdown",
   "metadata": {
    "colab_type": "text",
    "id": "P8YV4_-7xNsh"
   },
   "source": [
    "#DCGAN Model (Radford et.al 2015)"
   ]
  },
  {
   "cell_type": "code",
   "execution_count": 3,
   "metadata": {
    "colab": {},
    "colab_type": "code",
    "id": "lVw3E5WUjuSh"
   },
   "outputs": [],
   "source": [
    "#ThePolice\n",
    "\n",
    "class discriminator(nn.Module):\n",
    "    # initializers\n",
    "    def __init__(self, d):\n",
    "        super(discriminator, self).__init__()\n",
    "        self.conv1 = nn.Conv2d(1, d, 4, 2, 1)\n",
    "        self.conv2 = nn.Conv2d(d, d*2, 4, 2, 1)\n",
    "        self.conv2_bn = nn.BatchNorm2d(d*2)\n",
    "        self.conv3 = nn.Conv2d(d*2, d*4, 4, 2, 1)\n",
    "        self.conv3_bn = nn.BatchNorm2d(d*4)\n",
    "        self.conv4 = nn.Conv2d(d*4, d*8, 4, 2, 1)\n",
    "        self.conv4_bn = nn.BatchNorm2d(d*8)\n",
    "        self.conv5 = nn.Conv2d(d*8, 1, 4, 1, 0)\n",
    "\n",
    "    # weight_init... for stable gradient flow across layers\n",
    "    def weight_init(self, mean, std):\n",
    "        for m in self._modules:\n",
    "            normal_init(self._modules[m], mean, std)\n",
    "    \n",
    "    # forward method\n",
    "    def forward(self, input):\n",
    "        x = F.leaky_relu(self.conv1(input), 0.2)             #LeakyReLU in all layers except last\n",
    "        x = F.leaky_relu(self.conv2_bn(self.conv2(x)), 0.2)\n",
    "        x = F.leaky_relu(self.conv3_bn(self.conv3(x)), 0.2)\n",
    "        x = F.leaky_relu(self.conv4_bn(self.conv4(x)), 0.2)\n",
    "        #x = t.sigmoid(self.conv5(x))                        The output of D is no longer a probability now. \n",
    "        x = self.conv5(x)\n",
    "\n",
    "        return x\n",
    "      \n",
    "#TheCulprit\n",
    "\n",
    "class generator(nn.Module):\n",
    "    # initializers\n",
    "    def __init__(self, d):\n",
    "        super(generator, self).__init__()\n",
    "        self.deconv1 = nn.ConvTranspose2d(100, d*8, 4, 1, 0)     #100-d latent space vector\n",
    "        self.deconv1_bn = nn.BatchNorm2d(d*8)                     \n",
    "        self.deconv2 = nn.ConvTranspose2d(d*8, d*4, 4, 2, 1)\n",
    "        self.deconv2_bn = nn.BatchNorm2d(d*4)\n",
    "        self.deconv3 = nn.ConvTranspose2d(d*4, d*2, 4, 2, 1)\n",
    "        self.deconv3_bn = nn.BatchNorm2d(d*2)\n",
    "        self.deconv4 = nn.ConvTranspose2d(d*2, d, 4, 2, 1)\n",
    "        self.deconv4_bn = nn.BatchNorm2d(d)\n",
    "        self.deconv5 = nn.ConvTranspose2d(d, 1, 4, 2, 1)\n",
    "\n",
    "    # weight_init\n",
    "    def weight_init(self, mean, std):\n",
    "        for m in self._modules:   \n",
    "            normal_init(self._modules[m], mean, std)\n",
    "\n",
    "    # forward method\n",
    "    def forward(self, input):\n",
    "        # x = F.relu(self.deconv1(input))\n",
    "        x = F.relu(self.deconv1_bn(self.deconv1(input)))  #ReLU all layers except last where tanh used\n",
    "        x = F.relu(self.deconv2_bn(self.deconv2(x)))      \n",
    "        x = F.relu(self.deconv3_bn(self.deconv3(x)))      \n",
    "        x = F.relu(self.deconv4_bn(self.deconv4(x)))\n",
    "        x = t.tanh(self.deconv5(x))\n",
    "\n",
    "        return x\n",
    "      \n",
    "#WeightInitialiser\n",
    "def normal_init(m, mean, std):\n",
    "    if isinstance(m, nn.ConvTranspose2d) or isinstance(m, nn.Conv2d):\n",
    "        m.weight.data.normal_(mean, std)\n",
    "        m.bias.data.zero_()"
   ]
  },
  {
   "cell_type": "markdown",
   "metadata": {
    "colab_type": "text",
    "id": "hJ3GA2UvyQPn"
   },
   "source": [
    "#Utilities"
   ]
  },
  {
   "cell_type": "code",
   "execution_count": 4,
   "metadata": {
    "colab": {},
    "colab_type": "code",
    "id": "5Q1dw-dLvr6i"
   },
   "outputs": [],
   "source": [
    "#Create Folder\n",
    "if not os.path.isdir('MNIST_DCGAN_results'):\n",
    "    os.mkdir('MNIST_DCGAN_results')\n",
    "if not os.path.isdir('MNIST_DCGAN_results/Random_results'):\n",
    "    os.mkdir('MNIST_DCGAN_results/Random_results')\n",
    "if not os.path.isdir('MNIST_DCGAN_results/Fixed_results'):\n",
    "    os.mkdir('MNIST_DCGAN_results/Fixed_results')\n"
   ]
  },
  {
   "cell_type": "code",
   "execution_count": 5,
   "metadata": {
    "colab": {},
    "colab_type": "code",
    "id": "hQcykW1RzO8a"
   },
   "outputs": [],
   "source": [
    "#Stackoverflow Stuff :P\n",
    "\n",
    "fixed_z = Variable(t.Tensor(5 * 5, 100).normal_().view(-1, 100, 1, 1).cuda())  #Mod-2\n",
    "def show_result(num_epoch, show = False, save = False, path = 'result.png', isFix=False):\n",
    "    \n",
    "    z = t.Tensor(5*5, 100).normal_().view(-1, 100, 1, 1)                       #Mod-2\n",
    "    z = Variable(z.cuda())\n",
    "\n",
    "    g.eval() #EvalMode\n",
    "    \n",
    "    if isFix:\n",
    "        test_images = g(fixed_z)\n",
    "    else:\n",
    "        test_images = g(z)\n",
    "    \n",
    "    g.train() \n",
    "\n",
    "    size_figure_grid = 5\n",
    "    fig, ax = plt.subplots(size_figure_grid, size_figure_grid, figsize=(5, 5))\n",
    "    for i, j in itertools.product(range(size_figure_grid), range(size_figure_grid)):\n",
    "        ax[i, j].get_xaxis().set_visible(False)\n",
    "        ax[i, j].get_yaxis().set_visible(False)\n",
    "\n",
    "    for k in range(5*5):\n",
    "        i = k // 5\n",
    "        j = k % 5\n",
    "        ax[i, j].cla()\n",
    "        ax[i, j].imshow(test_images[k, 0].cpu().data.numpy(), cmap='gray')\n",
    "\n",
    "    label = 'Epoch {0}'.format(num_epoch)\n",
    "    fig.text(0.5, 0.04, label, ha='center')\n",
    "    plt.savefig(path)\n",
    "\n",
    "    if show:\n",
    "        plt.show()\n",
    "    else:\n",
    "        plt.close()"
   ]
  },
  {
   "cell_type": "code",
   "execution_count": 6,
   "metadata": {
    "colab": {},
    "colab_type": "code",
    "id": "y1ucDHg3tnW3"
   },
   "outputs": [],
   "source": [
    "#Training Plotter\n",
    "\n",
    "def train_plot(hist, show = False, save = False, path = 'Train_plot.png'):\n",
    "    \n",
    "    x = range(len(hist['D_loss']))\n",
    "\n",
    "    y1 = hist['D_loss']\n",
    "    y2 = hist['G_loss']\n",
    "\n",
    "    plt.plot(x, y1, label='D_loss')\n",
    "    plt.plot(x, y2, label='G_loss')\n",
    "\n",
    "    plt.xlabel('Iterations')\n",
    "    plt.ylabel('Loss')\n",
    "\n",
    "    plt.legend(loc='best')\n",
    "    plt.grid(True)\n",
    "    plt.tight_layout()\n",
    "\n",
    "    if save:\n",
    "        plt.savefig(path)\n",
    "\n",
    "    if show:\n",
    "        plt.show()\n",
    "    else:\n",
    "        plt.close()"
   ]
  },
  {
   "cell_type": "code",
   "execution_count": 7,
   "metadata": {
    "colab": {
     "base_uri": "https://localhost:8080/",
     "height": 119
    },
    "colab_type": "code",
    "id": "wHUP1sMEyV3m",
    "outputId": "8371cd17-39a0-4bc4-bd6c-172d9f5b3f4e"
   },
   "outputs": [
    {
     "name": "stdout",
     "output_type": "stream",
     "text": [
      "Downloading http://yann.lecun.com/exdb/mnist/train-images-idx3-ubyte.gz\n",
      "Downloading http://yann.lecun.com/exdb/mnist/train-labels-idx1-ubyte.gz\n",
      "Downloading http://yann.lecun.com/exdb/mnist/t10k-images-idx3-ubyte.gz\n",
      "Downloading http://yann.lecun.com/exdb/mnist/t10k-labels-idx1-ubyte.gz\n",
      "Processing...\n",
      "Done!\n"
     ]
    }
   ],
   "source": [
    "#As mentioned in the paper\n",
    "param = {\n",
    "    \"batch_sz\" : 128,\n",
    "    \"lr\" : 0.0002,\n",
    "    \"beta\" : 0.5,\n",
    "    \"img_size\" : 64,\n",
    "    \"lrD\" : 0.00005,\n",
    "    \"lrG\" : 0.00005,\n",
    "    \"clamp-lower\" : 0.01,\n",
    "    \"clamp-upper\" : 0.01,\n",
    "    \"d_iter\" : 5\n",
    "}\n",
    "\n",
    "tr_epch = 75\n",
    "\n",
    "#data transforms\n",
    "transform = transforms.Compose([\n",
    "        transforms.Resize(param[\"img_size\"]),\n",
    "        transforms.ToTensor(),\n",
    "        transforms.Normalize(mean=(0.5, 0.5, 0.5), std=(0.5, 0.5, 0.5))\n",
    "])\n",
    "\n",
    "#Load MNIST\n",
    "train_loader = utils.data.DataLoader(\n",
    "    datasets.MNIST('data', train=True, download=True, transform=transform),\n",
    "    batch_size=param[\"batch_sz\"], shuffle=True)\n"
   ]
  },
  {
   "cell_type": "code",
   "execution_count": 8,
   "metadata": {
    "colab": {},
    "colab_type": "code",
    "id": "hM5ZvC9H8oYO"
   },
   "outputs": [],
   "source": [
    "#Model_init\n",
    "g = generator(64)\n",
    "d = discriminator(64)\n",
    "g.weight_init(mean=0.0, std=0.02)\n",
    "d.weight_init(mean=0.0, std=0.02)\n",
    "\n",
    "#cost function\n",
    "criterion = nn.BCELoss()\n",
    "\n",
    "if cuda.is_available() :\n",
    "  g.cuda() \n",
    "  d.cuda()\n",
    "  criterion.cuda()"
   ]
  },
  {
   "cell_type": "code",
   "execution_count": 9,
   "metadata": {
    "colab": {},
    "colab_type": "code",
    "id": "CnJJmAGy_bux"
   },
   "outputs": [],
   "source": [
    "g_optim = optim.RMSprop(g.parameters(), lr=param[\"lrG\"]) \n",
    "d_optim = optim.RMSprop(d.parameters(), lr=param[\"lrD\"])"
   ]
  },
  {
   "cell_type": "markdown",
   "metadata": {
    "colab_type": "text",
    "id": "G05RHOVmJEaW"
   },
   "source": [
    "#Train Iterator"
   ]
  },
  {
   "cell_type": "code",
   "execution_count": 10,
   "metadata": {
    "colab": {},
    "colab_type": "code",
    "id": "N5GsBos6dcSn"
   },
   "outputs": [],
   "source": [
    "#DejaVu\n",
    "hist = {}\n",
    "hist['D_loss'] = []\n",
    "hist['G_loss'] = []\n",
    "hist['per_epoch_time'] = []\n",
    "hist['tot_time'] = []\n",
    "hist['Wasserstein_D'] = []\n",
    "num_iter = 0\n",
    "\n",
    "one = t.Tensor([1])\n",
    "m_one = one * -1\n",
    "if cuda.is_available() :\n",
    "    one,m_one = Variable(one.cuda()),Variable(m_one.cuda())"
   ]
  },
  {
   "cell_type": "code",
   "execution_count": 11,
   "metadata": {
    "colab": {
     "base_uri": "https://localhost:8080/",
     "height": 442
    },
    "colab_type": "code",
    "id": "_DoDYeSaGg5P",
    "outputId": "67e6464e-97cd-4d7a-d16b-c4292bb62e2b",
    "scrolled": true
   },
   "outputs": [
    {
     "name": "stdout",
     "output_type": "stream",
     "text": [
      "Training Starts Now\n",
      "[1/75] - ptime:367.48, loss_d: 1.493, loss_g: 0.720\n",
      "[2/75] - ptime:370.64, loss_d: 1.498, loss_g: 0.720\n",
      "[3/75] - ptime:371.56, loss_d: 1.515, loss_g: 0.736\n",
      "[4/75] - ptime:371.40, loss_d: 1.330, loss_g: 0.664\n",
      "[5/75] - ptime:371.47, loss_d: 1.117, loss_g: 0.569\n",
      "[6/75] - ptime:371.86, loss_d: 1.096, loss_g: 0.544\n",
      "[7/75] - ptime:371.63, loss_d: 1.068, loss_g: 0.529\n",
      "[8/75] - ptime:372.08, loss_d: 1.049, loss_g: 0.518\n",
      "[9/75] - ptime:372.00, loss_d: 1.050, loss_g: 0.512\n",
      "[10/75] - ptime:372.13, loss_d: 1.049, loss_g: 0.515\n",
      "[11/75] - ptime:371.77, loss_d: 1.040, loss_g: 0.512\n",
      "[12/75] - ptime:371.52, loss_d: 1.040, loss_g: 0.506\n",
      "[13/75] - ptime:371.63, loss_d: 1.040, loss_g: 0.507\n",
      "[14/75] - ptime:371.77, loss_d: 1.036, loss_g: 0.507\n",
      "[15/75] - ptime:371.46, loss_d: 1.036, loss_g: 0.505\n",
      "[16/75] - ptime:372.00, loss_d: 1.028, loss_g: 0.500\n",
      "[17/75] - ptime:372.29, loss_d: 1.019, loss_g: 0.498\n",
      "[18/75] - ptime:372.03, loss_d: 1.018, loss_g: 0.498\n",
      "[19/75] - ptime:371.65, loss_d: 1.016, loss_g: 0.488\n",
      "[20/75] - ptime:371.62, loss_d: 1.013, loss_g: 0.490\n",
      "[21/75] - ptime:371.64, loss_d: 1.005, loss_g: 0.487\n",
      "[22/75] - ptime:371.67, loss_d: 1.004, loss_g: 0.486\n",
      "[23/75] - ptime:371.41, loss_d: 0.997, loss_g: 0.481\n",
      "[24/75] - ptime:371.44, loss_d: 0.992, loss_g: 0.480\n",
      "[25/75] - ptime:371.68, loss_d: 0.987, loss_g: 0.477\n",
      "[26/75] - ptime:372.25, loss_d: 0.984, loss_g: 0.476\n",
      "[27/75] - ptime:371.56, loss_d: 0.972, loss_g: 0.474\n",
      "[28/75] - ptime:371.57, loss_d: 0.970, loss_g: 0.470\n",
      "[29/75] - ptime:371.47, loss_d: 0.965, loss_g: 0.466\n",
      "[30/75] - ptime:371.64, loss_d: 0.960, loss_g: 0.465\n",
      "[31/75] - ptime:371.61, loss_d: 0.953, loss_g: 0.460\n",
      "[32/75] - ptime:371.53, loss_d: 0.950, loss_g: 0.460\n",
      "[33/75] - ptime:371.68, loss_d: 0.945, loss_g: 0.458\n",
      "[34/75] - ptime:371.54, loss_d: 0.940, loss_g: 0.456\n",
      "[35/75] - ptime:372.13, loss_d: 0.936, loss_g: 0.452\n",
      "[36/75] - ptime:371.51, loss_d: 0.930, loss_g: 0.448\n",
      "[37/75] - ptime:371.48, loss_d: 0.928, loss_g: 0.448\n",
      "[38/75] - ptime:371.46, loss_d: 0.922, loss_g: 0.445\n",
      "[39/75] - ptime:371.47, loss_d: 0.920, loss_g: 0.445\n",
      "[40/75] - ptime:371.28, loss_d: 0.912, loss_g: 0.439\n",
      "[41/75] - ptime:371.43, loss_d: 0.904, loss_g: 0.439\n",
      "[42/75] - ptime:371.38, loss_d: 0.903, loss_g: 0.440\n",
      "[43/75] - ptime:371.36, loss_d: 0.896, loss_g: 0.433\n",
      "[44/75] - ptime:371.48, loss_d: 0.893, loss_g: 0.436\n",
      "[45/75] - ptime:371.13, loss_d: 0.890, loss_g: 0.435\n",
      "[46/75] - ptime:371.45, loss_d: 0.885, loss_g: 0.433\n",
      "[47/75] - ptime:371.07, loss_d: 0.880, loss_g: 0.430\n",
      "[48/75] - ptime:371.60, loss_d: 0.881, loss_g: 0.429\n",
      "[49/75] - ptime:371.68, loss_d: 0.873, loss_g: 0.426\n",
      "[50/75] - ptime:371.08, loss_d: 0.869, loss_g: 0.425\n",
      "[51/75] - ptime:371.27, loss_d: 0.863, loss_g: 0.423\n",
      "[52/75] - ptime:371.14, loss_d: 0.862, loss_g: 0.422\n",
      "[53/75] - ptime:371.01, loss_d: 0.856, loss_g: 0.420\n",
      "[54/75] - ptime:371.07, loss_d: 0.851, loss_g: 0.417\n",
      "[55/75] - ptime:370.99, loss_d: 0.847, loss_g: 0.417\n",
      "[56/75] - ptime:371.05, loss_d: 0.846, loss_g: 0.414\n",
      "[57/75] - ptime:371.14, loss_d: 0.843, loss_g: 0.412\n",
      "[58/75] - ptime:371.20, loss_d: 0.836, loss_g: 0.410\n",
      "[59/75] - ptime:371.08, loss_d: 0.835, loss_g: 0.411\n",
      "[60/75] - ptime:370.98, loss_d: 0.833, loss_g: 0.408\n",
      "[61/75] - ptime:371.09, loss_d: 0.825, loss_g: 0.408\n",
      "[62/75] - ptime:370.62, loss_d: 0.823, loss_g: 0.405\n",
      "[63/75] - ptime:370.80, loss_d: 0.823, loss_g: 0.404\n",
      "[64/75] - ptime:370.96, loss_d: 0.817, loss_g: 0.402\n",
      "[65/75] - ptime:370.96, loss_d: 0.813, loss_g: 0.400\n",
      "[66/75] - ptime:370.89, loss_d: 0.811, loss_g: 0.401\n",
      "[67/75] - ptime:370.88, loss_d: 0.811, loss_g: 0.398\n",
      "[68/75] - ptime:370.92, loss_d: 0.804, loss_g: 0.397\n",
      "[69/75] - ptime:370.93, loss_d: 0.801, loss_g: 0.394\n",
      "[70/75] - ptime:370.66, loss_d: 0.801, loss_g: 0.395\n",
      "[71/75] - ptime:370.52, loss_d: 0.798, loss_g: 0.393\n",
      "[72/75] - ptime:370.41, loss_d: 0.794, loss_g: 0.394\n",
      "[73/75] - ptime:370.46, loss_d: 0.792, loss_g: 0.390\n",
      "[74/75] - ptime:370.64, loss_d: 0.790, loss_g: 0.390\n",
      "[75/75] - ptime:370.52, loss_d: 0.786, loss_g: 0.390\n",
      "Avg per epoch time: 371.31, total 75 epochs time: 27941.46\n",
      "Training over!..\n"
     ]
    }
   ],
   "source": [
    "\n",
    "print(\"Training Starts Now\")\n",
    "\n",
    "start_time = time.time()\n",
    "g_iter = 0\n",
    "\n",
    "for epoch in range(tr_epch) :\n",
    "    epoch_start_time = time.time()\n",
    "    d_loss = []\n",
    "    g_loss = []\n",
    "    \n",
    "    \n",
    "        \n",
    "    for i,data in enumerate(train_loader) : \n",
    "        x_real = data[0]\n",
    "        z_d = t.Tensor(data[0].size()[0], 100).normal_().view(-1, 100, 1, 1)#Uniform distribution     #Mod-2\n",
    "      # z_g = t.randn((data[0].size()[0], 100)).view(-1, 100, 1, 1) #Uniform distribution\n",
    "    \n",
    "        if cuda.is_available() :\n",
    "            #Variable is autograd compliant as of 0.4.1\n",
    "            x_real,z_d = Variable(x_real.cuda()),Variable(z_d.cuda())\n",
    "        \n",
    "        \n",
    "        #Police Training(Train discriminator d_iter times while training the generator 1 time)\n",
    "        for p in d.parameters() :\n",
    "            p.requires_grad = True\n",
    "        \n",
    "        for i in range(param[\"d_iter\"]) :\n",
    "            d_loss_temp = []\n",
    "            d.zero_grad()\n",
    "            \n",
    "            for p in d.parameters() :\n",
    "                p.data.clamp_(-param[\"clamp-upper\"],param[\"clamp-upper\"])\n",
    "            #Discriminator loss A\n",
    "            D_loss_A = d(x_real)\n",
    "            D_loss_A = D_loss_A.mean(0).view(-1)\n",
    "            D_loss_A.backward(one)\n",
    "            \n",
    "            #Discriminator loss B\n",
    "            D_loss_B = d(g(z_d))\n",
    "            D_loss_B = D_loss_B.mean(0).view(-1)\n",
    "            D_loss_B.backward(m_one)\n",
    "            \n",
    "            #Total Discriminator Loss\n",
    "            D_loss_total = D_loss_B - D_loss_A\n",
    "            Wasserstein_D = -D_loss_total\n",
    "            d_loss_temp.append(D_loss_total.item())\n",
    "            d_optim.step()\n",
    "    \n",
    "        #Culprit Training\n",
    "        for p in d.parameters() :\n",
    "            p.requires_grad = False\n",
    "        \n",
    "        #Generator Loss (generates real looking fake samples)\n",
    "        G_loss_total = d(g(z_d))\n",
    "        G_loss_total =  G_loss_total.mean(0).view(-1)        #Mod1 : loss function gen\n",
    "        \n",
    "        g_loss.append(G_loss_total.item())\n",
    "        d_loss.append(t.mean(t.FloatTensor(d_loss_temp)))\n",
    "        g.zero_grad()\n",
    "        G_loss_total.backward(one)\n",
    "        g_optim.step()\n",
    "    \n",
    "        num_iter += 1\n",
    "  \n",
    "    epoch_end_time = time.time()\n",
    "    per_epoch_time = epoch_end_time - epoch_start_time\n",
    "    print('[%d/%d] - ptime:%.2f, loss_d: %.3f, loss_g: %.3f' % ((epoch + 1), tr_epch, per_epoch_time, t.mean(t.FloatTensor(d_loss)),\n",
    "                                                              t.mean(t.FloatTensor(g_loss))))\n",
    "    hist['D_loss'].append(t.mean(t.FloatTensor(d_loss)))\n",
    "    hist['G_loss'].append(t.mean(t.FloatTensor(g_loss)))\n",
    "    hist['per_epoch_time'].append(per_epoch_time)\n",
    "  \n",
    "    #Showing generator output per epoch\n",
    "    p = 'MNIST_DCGAN_results/Random_results/MNIST_DCGAN_' + str(epoch + 1) + '.png'\n",
    "    fixed_p = 'MNIST_DCGAN_results/Fixed_results/MNIST_DCGAN_' + str(epoch + 1) + '.png'\n",
    "    show_result((epoch+1), save=True, path=p, isFix=False)\n",
    "    show_result((epoch+1), save=True, path=fixed_p, isFix=True)\n",
    "  \n",
    "#Iteration Info  \n",
    "end_time = time.time()\n",
    "total_time = end_time - start_time\n",
    "hist['tot_time'].append(total_time)\n",
    "print(\"Avg per epoch time: %.2f, total %d epochs time: %.2f\" % (t.mean(t.FloatTensor(hist['per_epoch_time'])), tr_epch, total_time))\n",
    "print(\"Training over!..\")\n",
    "\n",
    "#Saving model state\n",
    "t.save(g.state_dict(), \"MNIST_DCGAN_results/g_param.pkl\")\n",
    "t.save(d.state_dict(), \"MNIST_DCGAN_results/d_param.pkl\")\n",
    "with open('MNIST_DCGAN_results/train_hist.pkl', 'wb') as f:\n",
    "    pickle.dump(hist, f)\n",
    "\n"
   ]
  },
  {
   "cell_type": "markdown",
   "metadata": {
    "colab_type": "text",
    "id": "sdNgAHtit3bV"
   },
   "source": [
    "Conflicting nature of losses (as in pretty evident from above train lapse) is the reason why these networks are \"**adversarial**\" in nature. <br> <br>\n",
    "\n",
    "Training seems to be pretty stable as opposed to traditional GAN training. <br>\n",
    "\n",
    "Total train time for 75 epochs (GTX 1070 8GB GPU) ~ **8 Hours**"
   ]
  },
  {
   "cell_type": "markdown",
   "metadata": {
    "colab_type": "text",
    "id": "Hb8nYvi7w-Nt"
   },
   "source": [
    "#Results"
   ]
  },
  {
   "cell_type": "code",
   "execution_count": 12,
   "metadata": {
    "colab": {
     "base_uri": "https://localhost:8080/",
     "height": 401
    },
    "colab_type": "code",
    "id": "Rot8GDRPw2bU",
    "outputId": "d882d4ac-7e85-435d-8736-a56f99bdefbb"
   },
   "outputs": [
    {
     "data": {
      "image/png": "[encoded data removed]",
      "text/plain": [
       "<Figure size 432x288 with 1 Axes>"
      ]
     },
     "metadata": {
      "needs_background": "light"
     },
     "output_type": "display_data"
    }
   ],
   "source": [
    "train_plot(hist, show= True, save=True, path='MNIST_DCGAN_results/MNIST_DCGAN_train_hist.png')"
   ]
  },
  {
   "cell_type": "code",
   "execution_count": 13,
   "metadata": {
    "colab": {},
    "colab_type": "code",
    "id": "vmpiCYnkxjsr"
   },
   "outputs": [],
   "source": [
    "#Fun Stuff\n",
    "images = []\n",
    "images1 = []\n",
    "\n",
    "for e in range(tr_epch):\n",
    "    img_name = 'MNIST_DCGAN_results/Fixed_results/MNIST_DCGAN_' + str(e + 1) + '.png'\n",
    "    images.append(imageio.imread(img_name))\n",
    "    \n",
    "    \n",
    "imageio.mimsave('MNIST_DCGAN_results/generation_animation_fixed.gif', images, fps=5)\n",
    "\n",
    "for e in range(tr_epch):\n",
    "    img_name = 'MNIST_DCGAN_results/Random_results/MNIST_DCGAN_' + str(e + 1) + '.png'\n",
    "    images1.append(imageio.imread(img_name))\n",
    "    \n",
    "    \n",
    "imageio.mimsave('MNIST_DCGAN_results/generation_animation_random.gif', images1, fps=5)\n"
   ]
  },
  {
   "cell_type": "code",
   "execution_count": null,
   "metadata": {},
   "outputs": [],
   "source": []
  }
 ],
 "metadata": {
  "accelerator": "GPU",
  "colab": {
   "collapsed_sections": [],
   "name": " wDCGAN-PyT.ipynb",
   "provenance": [],
   "version": "0.3.2"
  },
  "kernelspec": {
   "display_name": "Python 3",
   "language": "python",
   "name": "python3"
  },
  "language_info": {
   "codemirror_mode": {
    "name": "ipython",
    "version": 3
   },
   "file_extension": ".py",
   "mimetype": "text/x-python",
   "name": "python",
   "nbconvert_exporter": "python",
   "pygments_lexer": "ipython3",
   "version": "3.7.1"
  }
 },
 "nbformat": 4,
 "nbformat_minor": 1
}
