{
  "nbformat": 4,
  "nbformat_minor": 0,
  "metadata": {
    "colab": {
      "name": " wDCGAN-PyT.ipynb",
      "version": "0.3.2",
      "provenance": [],
      "collapsed_sections": []
    },
    "kernelspec": {
      "name": "python3",
      "display_name": "Python 3"
    },
    "accelerator": "GPU"
  },
  "cells": [
    {
      "metadata": {
        "id": "Oohb8pmyeNOO",
        "colab_type": "code",
        "outputId": "8f68bdac-e776-40aa-c821-15a0b4a8602d",
        "colab": {
          "base_uri": "https://localhost:8080/",
          "height": 326
        }
      },
      "cell_type": "code",
      "source": [
        "!pip3 install torch torchvision"
      ],
      "execution_count": 0,
      "outputs": [
        {
          "output_type": "stream",
          "text": [
            "Collecting torch\n",
            "\u001b[?25l  Downloading https://files.pythonhosted.org/packages/7e/60/66415660aa46b23b5e1b72bc762e816736ce8d7260213e22365af51e8f9c/torch-1.0.0-cp36-cp36m-manylinux1_x86_64.whl (591.8MB)\n",
            "\u001b[K    100% |████████████████████████████████| 591.8MB 27kB/s \n",
            "tcmalloc: large alloc 1073750016 bytes == 0x62400000 @  0x7f1813d2a2a4 0x591a07 0x5b5d56 0x502e9a 0x506859 0x502209 0x502f3d 0x506859 0x504c28 0x502540 0x502f3d 0x506859 0x504c28 0x502540 0x502f3d 0x506859 0x504c28 0x502540 0x502f3d 0x507641 0x502209 0x502f3d 0x506859 0x504c28 0x502540 0x502f3d 0x507641 0x504c28 0x502540 0x502f3d 0x507641\n",
            "\u001b[?25hCollecting torchvision\n",
            "\u001b[?25l  Downloading https://files.pythonhosted.org/packages/ca/0d/f00b2885711e08bd71242ebe7b96561e6f6d01fdb4b9dcf4d37e2e13c5e1/torchvision-0.2.1-py2.py3-none-any.whl (54kB)\n",
            "\u001b[K    100% |████████████████████████████████| 61kB 21.5MB/s \n",
            "\u001b[?25hRequirement already satisfied: six in /usr/local/lib/python3.6/dist-packages (from torchvision) (1.11.0)\n",
            "Requirement already satisfied: numpy in /usr/local/lib/python3.6/dist-packages (from torchvision) (1.14.6)\n",
            "Collecting pillow>=4.1.1 (from torchvision)\n",
            "\u001b[?25l  Downloading https://files.pythonhosted.org/packages/62/94/5430ebaa83f91cc7a9f687ff5238e26164a779cca2ef9903232268b0a318/Pillow-5.3.0-cp36-cp36m-manylinux1_x86_64.whl (2.0MB)\n",
            "\u001b[K    100% |████████████████████████████████| 2.0MB 3.9MB/s \n",
            "\u001b[?25hInstalling collected packages: torch, pillow, torchvision\n",
            "  Found existing installation: Pillow 4.0.0\n",
            "    Uninstalling Pillow-4.0.0:\n",
            "      Successfully uninstalled Pillow-4.0.0\n",
            "Successfully installed pillow-5.3.0 torch-1.0.0 torchvision-0.2.1\n"
          ],
          "name": "stdout"
        }
      ]
    },
    {
      "metadata": {
        "id": "p7yr3geQwJ0O",
        "colab_type": "code",
        "colab": {}
      },
      "cell_type": "code",
      "source": [
        "!pip install Pillow==4.0.0\n",
        "!pip install PIL\n",
        "!pip install image"
      ],
      "execution_count": 0,
      "outputs": []
    },
    {
      "metadata": {
        "id": "xQLnHK9jJwrU",
        "colab_type": "code",
        "colab": {}
      },
      "cell_type": "code",
      "source": [
        "import os,time,itertools,pickle,imageio\n",
        "import matplotlib.pyplot as plt\n",
        "import matplotlib.image as mpimg"
      ],
      "execution_count": 0,
      "outputs": []
    },
    {
      "metadata": {
        "id": "i0Gh0dPiigMh",
        "colab_type": "code",
        "colab": {}
      },
      "cell_type": "code",
      "source": [
        "import torch as t\n",
        "from torch import cuda,nn,optim,utils\n",
        "from torch.nn import functional as F\n",
        "from torch.autograd import Variable\n",
        "from torchvision import datasets,transforms"
      ],
      "execution_count": 0,
      "outputs": []
    },
    {
      "metadata": {
        "id": "P8YV4_-7xNsh",
        "colab_type": "text"
      },
      "cell_type": "markdown",
      "source": [
        "#DCGAN Model (Radford et.al 2015)"
      ]
    },
    {
      "metadata": {
        "id": "lVw3E5WUjuSh",
        "colab_type": "code",
        "colab": {}
      },
      "cell_type": "code",
      "source": [
        "#ThePolice\n",
        "\n",
        "class discriminator(nn.Module):\n",
        "    # initializers\n",
        "    def __init__(self, d):\n",
        "        super(discriminator, self).__init__()\n",
        "        self.conv1 = nn.Conv2d(1, d, 4, 2, 1)\n",
        "        self.conv2 = nn.Conv2d(d, d*2, 4, 2, 1)\n",
        "        self.conv2_bn = nn.BatchNorm2d(d*2)\n",
        "        self.conv3 = nn.Conv2d(d*2, d*4, 4, 2, 1)\n",
        "        self.conv3_bn = nn.BatchNorm2d(d*4)\n",
        "        self.conv4 = nn.Conv2d(d*4, d*8, 4, 2, 1)\n",
        "        self.conv4_bn = nn.BatchNorm2d(d*8)\n",
        "        self.conv5 = nn.Conv2d(d*8, 1, 4, 1, 0)\n",
        "\n",
        "    # weight_init... for stable gradient flow across layers\n",
        "    def weight_init(self, mean, std):\n",
        "        for m in self._modules:\n",
        "            normal_init(self._modules[m], mean, std)\n",
        "    \n",
        "    # forward method\n",
        "    def forward(self, input):\n",
        "        x = F.leaky_relu(self.conv1(input), 0.2)             #LeakyReLU in all layers except last\n",
        "        x = F.leaky_relu(self.conv2_bn(self.conv2(x)), 0.2)\n",
        "        x = F.leaky_relu(self.conv3_bn(self.conv3(x)), 0.2)\n",
        "        x = F.leaky_relu(self.conv4_bn(self.conv4(x)), 0.2)\n",
        "        #x = t.sigmoid(self.conv5(x))                        The output of D is no longer a probability now. \n",
        "        x = self.conv5(x)\n",
        "\n",
        "        return x\n",
        "      \n",
        "#TheCulprit\n",
        "\n",
        "class generator(nn.Module):\n",
        "    # initializers\n",
        "    def __init__(self, d):\n",
        "        super(generator, self).__init__()\n",
        "        self.deconv1 = nn.ConvTranspose2d(100, d*8, 4, 1, 0)     #100-d latent space vector\n",
        "        self.deconv1_bn = nn.BatchNorm2d(d*8)                     \n",
        "        self.deconv2 = nn.ConvTranspose2d(d*8, d*4, 4, 2, 1)\n",
        "        self.deconv2_bn = nn.BatchNorm2d(d*4)\n",
        "        self.deconv3 = nn.ConvTranspose2d(d*4, d*2, 4, 2, 1)\n",
        "        self.deconv3_bn = nn.BatchNorm2d(d*2)\n",
        "        self.deconv4 = nn.ConvTranspose2d(d*2, d, 4, 2, 1)\n",
        "        self.deconv4_bn = nn.BatchNorm2d(d)\n",
        "        self.deconv5 = nn.ConvTranspose2d(d, 1, 4, 2, 1)\n",
        "\n",
        "    # weight_init\n",
        "    def weight_init(self, mean, std):\n",
        "        for m in self._modules:   \n",
        "            normal_init(self._modules[m], mean, std)\n",
        "\n",
        "    # forward method\n",
        "    def forward(self, input):\n",
        "        # x = F.relu(self.deconv1(input))\n",
        "        x = F.relu(self.deconv1_bn(self.deconv1(input)))  #ReLU all layers except last where tanh used\n",
        "        x = F.relu(self.deconv2_bn(self.deconv2(x)))      \n",
        "        x = F.relu(self.deconv3_bn(self.deconv3(x)))      \n",
        "        x = F.relu(self.deconv4_bn(self.deconv4(x)))\n",
        "        x = t.tanh(self.deconv5(x))\n",
        "\n",
        "        return x\n",
        "      \n",
        "#WeightInitialiser\n",
        "def normal_init(m, mean, std):\n",
        "    if isinstance(m, nn.ConvTranspose2d) or isinstance(m, nn.Conv2d):\n",
        "        m.weight.data.normal_(mean, std)\n",
        "        m.bias.data.zero_()"
      ],
      "execution_count": 0,
      "outputs": []
    },
    {
      "metadata": {
        "id": "hJ3GA2UvyQPn",
        "colab_type": "text"
      },
      "cell_type": "markdown",
      "source": [
        "#Utilities"
      ]
    },
    {
      "metadata": {
        "id": "5Q1dw-dLvr6i",
        "colab_type": "code",
        "colab": {}
      },
      "cell_type": "code",
      "source": [
        "#Create Folder\n",
        "if not os.path.isdir('MNIST_DCGAN_results'):\n",
        "    os.mkdir('MNIST_DCGAN_results')\n",
        "if not os.path.isdir('MNIST_DCGAN_results/Random_results'):\n",
        "    os.mkdir('MNIST_DCGAN_results/Random_results')\n",
        "if not os.path.isdir('MNIST_DCGAN_results/Fixed_results'):\n",
        "    os.mkdir('MNIST_DCGAN_results/Fixed_results')\n"
      ],
      "execution_count": 0,
      "outputs": []
    },
    {
      "metadata": {
        "id": "hQcykW1RzO8a",
        "colab_type": "code",
        "colab": {}
      },
      "cell_type": "code",
      "source": [
        "#Stackoverflow Stuff :P\n",
        "\n",
        "fixed_z = Variable(t.Tensor(5 * 5, 100).normal_().view(-1, 100, 1, 1).cuda())  #Mod-2\n",
        "def show_result(num_epoch, show = False, save = False, path = 'result.png', isFix=False):\n",
        "    \n",
        "    z = t.Tensor(5*5, 100).normal_().view(-1, 100, 1, 1)                       #Mod-2\n",
        "    z = Variable(z.cuda())\n",
        "\n",
        "    g.eval() #EvalMode\n",
        "    \n",
        "    if isFix:\n",
        "        test_images = g(fixed_z)\n",
        "    else:\n",
        "        test_images = g(z)\n",
        "    \n",
        "    g.train() \n",
        "\n",
        "    size_figure_grid = 5\n",
        "    fig, ax = plt.subplots(size_figure_grid, size_figure_grid, figsize=(5, 5))\n",
        "    for i, j in itertools.product(range(size_figure_grid), range(size_figure_grid)):\n",
        "        ax[i, j].get_xaxis().set_visible(False)\n",
        "        ax[i, j].get_yaxis().set_visible(False)\n",
        "\n",
        "    for k in range(5*5):\n",
        "        i = k // 5\n",
        "        j = k % 5\n",
        "        ax[i, j].cla()\n",
        "        ax[i, j].imshow(test_images[k, 0].cpu().data.numpy(), cmap='gray')\n",
        "\n",
        "    label = 'Epoch {0}'.format(num_epoch)\n",
        "    fig.text(0.5, 0.04, label, ha='center')\n",
        "    plt.savefig(path)\n",
        "\n",
        "    if show:\n",
        "        plt.show()\n",
        "    else:\n",
        "        plt.close()"
      ],
      "execution_count": 0,
      "outputs": []
    },
    {
      "metadata": {
        "id": "y1ucDHg3tnW3",
        "colab_type": "code",
        "colab": {}
      },
      "cell_type": "code",
      "source": [
        "#Training Plotter\n",
        "\n",
        "def train_plot(hist, show = False, save = False, path = 'Train_plot.png'):\n",
        "    \n",
        "    x = range(len(hist['D_loss']))\n",
        "\n",
        "    y1 = hist['D_loss']\n",
        "    y2 = hist['G_loss']\n",
        "\n",
        "    plt.plot(x, y1, label='D_loss')\n",
        "    plt.plot(x, y2, label='G_loss')\n",
        "\n",
        "    plt.xlabel('Iterations')\n",
        "    plt.ylabel('Loss')\n",
        "\n",
        "    plt.legend(loc='best')\n",
        "    plt.grid(True)\n",
        "    plt.tight_layout()\n",
        "\n",
        "    if save:\n",
        "        plt.savefig(path)\n",
        "\n",
        "    if show:\n",
        "        plt.show()\n",
        "    else:\n",
        "        plt.close()"
      ],
      "execution_count": 0,
      "outputs": []
    },
    {
      "metadata": {
        "id": "wHUP1sMEyV3m",
        "colab_type": "code",
        "outputId": "8371cd17-39a0-4bc4-bd6c-172d9f5b3f4e",
        "colab": {
          "base_uri": "https://localhost:8080/",
          "height": 119
        }
      },
      "cell_type": "code",
      "source": [
        "#As mentioned in the paper\n",
        "param = {\n",
        "    \"batch_sz\" : 128,\n",
        "    \"lr\" : 0.0002,\n",
        "    \"beta\" : 0.5,\n",
        "    \"img_size\" : 64,\n",
        "    \"lrD\" : 0.00005,\n",
        "    \"lrG\" : 0.00005,\n",
        "    \"clamp-lower\" : 0.01,\n",
        "    \"clamp-upper\" : 0.01,\n",
        "    \"d_iter\" : 5\n",
        "}\n",
        "\n",
        "tr_epch = 25\n",
        "\n",
        "#data transforms\n",
        "transform = transforms.Compose([\n",
        "        transforms.Resize(param[\"img_size\"]),\n",
        "        transforms.ToTensor(),\n",
        "        transforms.Normalize(mean=(0.5, 0.5, 0.5), std=(0.5, 0.5, 0.5))\n",
        "])\n",
        "\n",
        "#Load MNIST\n",
        "train_loader = utils.data.DataLoader(\n",
        "    datasets.MNIST('data', train=True, download=True, transform=transform),\n",
        "    batch_size=param[\"batch_sz\"], shuffle=True)\n"
      ],
      "execution_count": 0,
      "outputs": [
        {
          "output_type": "stream",
          "text": [
            "Downloading http://yann.lecun.com/exdb/mnist/train-images-idx3-ubyte.gz\n",
            "Downloading http://yann.lecun.com/exdb/mnist/train-labels-idx1-ubyte.gz\n",
            "Downloading http://yann.lecun.com/exdb/mnist/t10k-images-idx3-ubyte.gz\n",
            "Downloading http://yann.lecun.com/exdb/mnist/t10k-labels-idx1-ubyte.gz\n",
            "Processing...\n",
            "Done!\n"
          ],
          "name": "stdout"
        }
      ]
    },
    {
      "metadata": {
        "id": "hM5ZvC9H8oYO",
        "colab_type": "code",
        "colab": {}
      },
      "cell_type": "code",
      "source": [
        "#Model_init\n",
        "g = generator(64)\n",
        "d = discriminator(64)\n",
        "g.weight_init(mean=0.0, std=0.02)\n",
        "d.weight_init(mean=0.0, std=0.02)\n",
        "\n",
        "#cost function\n",
        "criterion = nn.BCELoss()\n",
        "\n",
        "if cuda.is_available() :\n",
        "  g.cuda() \n",
        "  d.cuda()\n",
        "  criterion.cuda()"
      ],
      "execution_count": 0,
      "outputs": []
    },
    {
      "metadata": {
        "id": "CnJJmAGy_bux",
        "colab_type": "code",
        "colab": {}
      },
      "cell_type": "code",
      "source": [
        "g_optim = optim.RMSprop(g.parameters(), lr=param[\"lrG\"]) \n",
        "d_optim = optim.RMSprop(d.parameters(), lr=param[\"lrD\"])"
      ],
      "execution_count": 0,
      "outputs": []
    },
    {
      "metadata": {
        "id": "G05RHOVmJEaW",
        "colab_type": "text"
      },
      "cell_type": "markdown",
      "source": [
        "#Train Iterator"
      ]
    },
    {
      "metadata": {
        "id": "N5GsBos6dcSn",
        "colab_type": "code",
        "colab": {}
      },
      "cell_type": "code",
      "source": [
        "#DejaVu\n",
        "hist = {}\n",
        "hist['D_loss'] = []\n",
        "hist['G_loss'] = []\n",
        "hist['per_epoch_time'] = []\n",
        "hist['tot_time'] = []\n",
        "num_iter = 0"
      ],
      "execution_count": 0,
      "outputs": []
    },
    {
      "metadata": {
        "id": "_DoDYeSaGg5P",
        "colab_type": "code",
        "outputId": "67e6464e-97cd-4d7a-d16b-c4292bb62e2b",
        "colab": {
          "base_uri": "https://localhost:8080/",
          "height": 442
        }
      },
      "cell_type": "code",
      "source": [
        "print(\"Training Starts Now\")\n",
        "\n",
        "start_time = time.time()\n",
        "g_iter = 0\n",
        "for epoch in range(tr_epch) :\n",
        "  \n",
        "  epoch_start_time = time.time()\n",
        "  d_loss = []\n",
        "  g_loss = []\n",
        "  \n",
        "  for i,data in enumerate(train_loader) : \n",
        "  \n",
        "    x_real = data[0]\n",
        "    z_d = t.Tensor(data[0].size()[0], 100).normal_().view(-1, 100, 1, 1)#Uniform distribution     #Mod-2\n",
        "    one = t.Tensor([1])\n",
        "    m_one = one * -1\n",
        "   # z_g = t.randn((data[0].size()[0], 100)).view(-1, 100, 1, 1) #Uniform distribution\n",
        "    \n",
        "    if cuda.is_available() :\n",
        "      #Variable is autograd compliant as of 0.4.1\n",
        "      x_real,y_real,y_fake,z_d = Variable(x_real.cuda()),Variable(one.cuda()),Variable(m_one.cuda()),Variable(z_d.cuda())\n",
        "    \n",
        "    #Police Training\n",
        "    \n",
        "    for p in d.parameters() :\n",
        "      p.requires_grad = True\n",
        "    \n",
        "    if g_iter < tr_epch or g_iter % 500 == 0 :\n",
        "      d_iter = 100\n",
        "    else :\n",
        "      d_iter = param[\"d_iter\"]\n",
        "      \n",
        "    \n",
        "    \n",
        "    #Culprit Training\n",
        "    \n",
        "    #Generator Loss (generates real looking fake samples)\n",
        "    G_result = d(g(z_d)).view(-1)\n",
        "    G_loss_total =  criterion(G_result,y_real)        #Mod1 : loss function gen\n",
        "    g_loss.append(G_loss_total.item())\n",
        "    \n",
        "    g.zero_grad()\n",
        "    G_loss_total.backward()\n",
        "    g_optim.step()\n",
        "    \n",
        "    num_iter += 1\n",
        "  \n",
        "  epoch_end_time = time.time()\n",
        "  per_epoch_time = epoch_end_time - epoch_start_time\n",
        "  print('[%d/%d] - ptime:%.2f, loss_d: %.3f, loss_g: %.3f' % ((epoch + 1), tr_epch, per_epoch_time, t.mean(t.FloatTensor(d_loss)),\n",
        "                                                              t.mean(t.FloatTensor(g_loss))))\n",
        "  hist['D_loss'].append(t.mean(t.FloatTensor(d_loss)))\n",
        "  hist['G_loss'].append(t.mean(t.FloatTensor(g_loss)))\n",
        "  hist['per_epoch_time'].append(per_epoch_time)\n",
        "  \n",
        "  #Showing generator output per epoch\n",
        "  p = 'MNIST_DCGAN_results/Random_results/MNIST_DCGAN_' + str(epoch + 1) + '.png'\n",
        "  fixed_p = 'MNIST_DCGAN_results/Fixed_results/MNIST_DCGAN_' + str(epoch + 1) + '.png'\n",
        "  show_result((epoch+1), save=True, path=p, isFix=False)\n",
        "  show_result((epoch+1), save=True, path=fixed_p, isFix=True)\n",
        "  \n",
        "#Iteration Info  \n",
        "end_time = time.time()\n",
        "total_time = end_time - start_time\n",
        "hist['tot_time'].append(total_time)\n",
        "print(\"Avg per epoch time: %.2f, total %d epochs time: %.2f\" % (t.mean(t.FloatTensor(hist['per_epoch_time'])), tr_epch, total_time))\n",
        "print(\"Training over!..\")\n",
        "\n",
        "#Saving model state\n",
        "t.save(g.state_dict(), \"MNIST_DCGAN_results/g_param.pkl\")\n",
        "t.save(d.state_dict(), \"MNIST_DCGAN_results/d_param.pkl\")\n",
        "with open('MNIST_DCGAN_results/train_hist.pkl', 'wb') as f:\n",
        "    pickle.dump(hist, f)\n",
        "\n"
      ],
      "execution_count": 0,
      "outputs": [
        {
          "output_type": "stream",
          "text": [
            "Training Starts Now\n",
            "[1/25] - ptime:244.53, loss_d: 0.339, loss_g: 5.284\n",
            "[2/25] - ptime:244.22, loss_d: 0.503, loss_g: 2.863\n",
            "[3/25] - ptime:243.61, loss_d: 0.501, loss_g: 2.689\n",
            "[4/25] - ptime:243.74, loss_d: 0.444, loss_g: 3.179\n",
            "[5/25] - ptime:243.65, loss_d: 0.524, loss_g: 3.223\n",
            "[6/25] - ptime:243.93, loss_d: 0.412, loss_g: 3.321\n",
            "[7/25] - ptime:243.96, loss_d: 0.450, loss_g: 3.354\n",
            "[8/25] - ptime:243.71, loss_d: 0.389, loss_g: 3.869\n",
            "[9/25] - ptime:243.74, loss_d: 0.205, loss_g: 4.324\n",
            "[10/25] - ptime:243.77, loss_d: 0.517, loss_g: 3.171\n",
            "[11/25] - ptime:243.66, loss_d: 0.632, loss_g: 2.772\n",
            "[12/25] - ptime:243.68, loss_d: 0.364, loss_g: 3.662\n",
            "[13/25] - ptime:243.66, loss_d: 0.352, loss_g: 3.764\n",
            "[14/25] - ptime:243.68, loss_d: 0.241, loss_g: 4.952\n",
            "[15/25] - ptime:243.67, loss_d: 0.144, loss_g: 4.737\n",
            "[16/25] - ptime:243.64, loss_d: 0.545, loss_g: 4.464\n",
            "[17/25] - ptime:243.73, loss_d: 0.541, loss_g: 2.933\n",
            "[18/25] - ptime:243.67, loss_d: 0.196, loss_g: 4.743\n",
            "[19/25] - ptime:243.67, loss_d: 0.006, loss_g: 6.567\n",
            "[20/25] - ptime:243.67, loss_d: 0.765, loss_g: 2.803\n",
            "[21/25] - ptime:243.68, loss_d: 0.265, loss_g: 4.252\n",
            "[22/25] - ptime:243.69, loss_d: 0.008, loss_g: 7.036\n",
            "[23/25] - ptime:243.72, loss_d: 0.001, loss_g: 8.253\n",
            "[24/25] - ptime:243.69, loss_d: 0.000, loss_g: 8.466\n"
          ],
          "name": "stdout"
        }
      ]
    },
    {
      "metadata": {
        "id": "sdNgAHtit3bV",
        "colab_type": "text"
      },
      "cell_type": "markdown",
      "source": [
        "Conflicting nature of losses (as in pretty evident from above train lapse) is the reason why these networks are \"**adversarial**\" in nature. <br> <br>\n",
        "\n",
        "Total train time for 15 epochs (Tesla K80 12GB cloud GPU) ~ **1 Hour**"
      ]
    },
    {
      "metadata": {
        "id": "Hb8nYvi7w-Nt",
        "colab_type": "text"
      },
      "cell_type": "markdown",
      "source": [
        "#Results"
      ]
    },
    {
      "metadata": {
        "id": "Rot8GDRPw2bU",
        "colab_type": "code",
        "outputId": "d882d4ac-7e85-435d-8736-a56f99bdefbb",
        "colab": {
          "base_uri": "https://localhost:8080/",
          "height": 401
        }
      },
      "cell_type": "code",
      "source": [
        "train_plot(hist, show= True, save=True, path='MNIST_DCGAN_results/MNIST_DCGAN_train_hist.png')"
      ],
      "execution_count": 0,
      "outputs": [
        {
          "output_type": "display_data",
          "data": {
            "image/png": "[encoded data removed]",
            "text/plain": [
              "<matplotlib.figure.Figure at 0x7f4ad589bf60>"
            ]
          },
          "metadata": {
            "tags": []
          }
        }
      ]
    },
    {
      "metadata": {
        "id": "vmpiCYnkxjsr",
        "colab_type": "code",
        "colab": {}
      },
      "cell_type": "code",
      "source": [
        "#Fun Stuff\n",
        "images = []\n",
        "images1 = []\n",
        "\n",
        "for e in range(tr_epch):\n",
        "    img_name = 'MNIST_DCGAN_results/Fixed_results/MNIST_DCGAN_' + str(e + 1) + '.png'\n",
        "    images.append(imageio.imread(img_name))\n",
        "    \n",
        "    \n",
        "imageio.mimsave('MNIST_DCGAN_results/generation_animation_fixed.gif', images, fps=5)\n",
        "\n",
        "for e in range(tr_epch):\n",
        "    img_name = 'MNIST_DCGAN_results/Random_results/MNIST_DCGAN_' + str(e + 1) + '.png'\n",
        "    images1.append(imageio.imread(img_name))\n",
        "    \n",
        "    \n",
        "imageio.mimsave('MNIST_DCGAN_results/generation_animation_random.gif', images1, fps=5)\n"
      ],
      "execution_count": 0,
      "outputs": []
    },
    {
      "metadata": {
        "id": "RntRuvQW11c9",
        "colab_type": "code",
        "colab": {}
      },
      "cell_type": "code",
      "source": [
        "!zip -r /content/file.zip /content/MNIST_DCGAN_results"
      ],
      "execution_count": 0,
      "outputs": []
    },
    {
      "metadata": {
        "id": "2VmqH2QW2CrN",
        "colab_type": "code",
        "colab": {}
      },
      "cell_type": "code",
      "source": [
        "from google.colab import files\n",
        "files.download(\"/content/file.zip\")"
      ],
      "execution_count": 0,
      "outputs": []
    }
  ]
}